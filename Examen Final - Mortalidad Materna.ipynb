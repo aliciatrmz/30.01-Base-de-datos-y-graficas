{
 "cells": [
  {
   "cell_type": "markdown",
   "metadata": {},
   "source": [
    "# Examen Final - Mortalidad Materna"
   ]
  },
  {
   "cell_type": "markdown",
   "metadata": {},
   "source": [
    "#### Nombre: Alicia del Carmen Torres Ramírez"
   ]
  },
  {
   "cell_type": "markdown",
   "metadata": {},
   "source": [
    "## 1. Análisis de la información y método de resolución"
   ]
  },
  {
   "cell_type": "markdown",
   "metadata": {},
   "source": [
    "- Comenzamos por importar librerías y lectura de nuestra base de datos"
   ]
  },
  {
   "cell_type": "code",
   "execution_count": 1,
   "metadata": {},
   "outputs": [],
   "source": [
    "# Primeramente importo librerías\n",
    "import numpy as np\n",
    "import pandas as pd\n",
    "import matplotlib.pyplot as plt"
   ]
  },
  {
   "cell_type": "code",
   "execution_count": 4,
   "metadata": {},
   "outputs": [],
   "source": [
    "# leer nuestra base de datos\n",
    "MM=pd.read_csv(\"mortalidad.csv\")"
   ]
  },
  {
   "cell_type": "markdown",
   "metadata": {},
   "source": [
    "- Nombre de los encabezados"
   ]
  },
  {
   "cell_type": "code",
   "execution_count": 5,
   "metadata": {},
   "outputs": [
    {
     "data": {
      "text/html": [
       "<div>\n",
       "<style scoped>\n",
       "    .dataframe tbody tr th:only-of-type {\n",
       "        vertical-align: middle;\n",
       "    }\n",
       "\n",
       "    .dataframe tbody tr th {\n",
       "        vertical-align: top;\n",
       "    }\n",
       "\n",
       "    .dataframe thead th {\n",
       "        text-align: right;\n",
       "    }\n",
       "</style>\n",
       "<table border=\"1\" class=\"dataframe\">\n",
       "  <thead>\n",
       "    <tr style=\"text-align: right;\">\n",
       "      <th></th>\n",
       "      <th>Año de nacimiento</th>\n",
       "      <th>Mes de nacimiento</th>\n",
       "      <th>Descripción del mes de nacimiento</th>\n",
       "      <th>Día de nacimiento</th>\n",
       "      <th>Genero</th>\n",
       "      <th>Clave de la edad</th>\n",
       "      <th>Edad cumplida</th>\n",
       "      <th>Estado conyugal</th>\n",
       "      <th>Descripción del estado conyugal</th>\n",
       "      <th>Entidad de residencia</th>\n",
       "      <th>...</th>\n",
       "      <th>Mes de registro</th>\n",
       "      <th>Descripción del mes de registro</th>\n",
       "      <th>Día de registro</th>\n",
       "      <th>Año de la certificación</th>\n",
       "      <th>Mes de la certificación</th>\n",
       "      <th>Descripció del mes de la certificación</th>\n",
       "      <th>Día de la certificación</th>\n",
       "      <th>Año de la base de datos</th>\n",
       "      <th>Razón de mortalidad materna</th>\n",
       "      <th>Descrición de la razón de mortalidad materna</th>\n",
       "    </tr>\n",
       "  </thead>\n",
       "  <tbody>\n",
       "    <tr>\n",
       "      <th>0</th>\n",
       "      <td>1972</td>\n",
       "      <td>6</td>\n",
       "      <td>JUNIO</td>\n",
       "      <td>25</td>\n",
       "      <td>2</td>\n",
       "      <td>A</td>\n",
       "      <td>29</td>\n",
       "      <td>5</td>\n",
       "      <td>CASADO</td>\n",
       "      <td>31</td>\n",
       "      <td>...</td>\n",
       "      <td>1</td>\n",
       "      <td>ENERO</td>\n",
       "      <td>20</td>\n",
       "      <td>NaN</td>\n",
       "      <td>0</td>\n",
       "      <td>NO ESPECIFICADO</td>\n",
       "      <td>NaN</td>\n",
       "      <td>2002</td>\n",
       "      <td>1</td>\n",
       "      <td>Muertes Maternas para la razón de Mortalidad M...</td>\n",
       "    </tr>\n",
       "    <tr>\n",
       "      <th>1</th>\n",
       "      <td>1967</td>\n",
       "      <td>2</td>\n",
       "      <td>FEBRERO</td>\n",
       "      <td>1</td>\n",
       "      <td>2</td>\n",
       "      <td>A</td>\n",
       "      <td>35</td>\n",
       "      <td>5</td>\n",
       "      <td>CASADO</td>\n",
       "      <td>31</td>\n",
       "      <td>...</td>\n",
       "      <td>7</td>\n",
       "      <td>JULIO</td>\n",
       "      <td>28</td>\n",
       "      <td>NaN</td>\n",
       "      <td>0</td>\n",
       "      <td>NO ESPECIFICADO</td>\n",
       "      <td>NaN</td>\n",
       "      <td>2002</td>\n",
       "      <td>1</td>\n",
       "      <td>Muertes Maternas para la razón de Mortalidad M...</td>\n",
       "    </tr>\n",
       "    <tr>\n",
       "      <th>2</th>\n",
       "      <td>1973</td>\n",
       "      <td>6</td>\n",
       "      <td>JUNIO</td>\n",
       "      <td>21</td>\n",
       "      <td>2</td>\n",
       "      <td>A</td>\n",
       "      <td>29</td>\n",
       "      <td>5</td>\n",
       "      <td>CASADO</td>\n",
       "      <td>31</td>\n",
       "      <td>...</td>\n",
       "      <td>10</td>\n",
       "      <td>OCTUBRE</td>\n",
       "      <td>24</td>\n",
       "      <td>NaN</td>\n",
       "      <td>0</td>\n",
       "      <td>NO ESPECIFICADO</td>\n",
       "      <td>NaN</td>\n",
       "      <td>2002</td>\n",
       "      <td>1</td>\n",
       "      <td>Muertes Maternas para la razón de Mortalidad M...</td>\n",
       "    </tr>\n",
       "    <tr>\n",
       "      <th>3</th>\n",
       "      <td>1966</td>\n",
       "      <td>1</td>\n",
       "      <td>ENERO</td>\n",
       "      <td>23</td>\n",
       "      <td>2</td>\n",
       "      <td>A</td>\n",
       "      <td>36</td>\n",
       "      <td>5</td>\n",
       "      <td>CASADO</td>\n",
       "      <td>31</td>\n",
       "      <td>...</td>\n",
       "      <td>10</td>\n",
       "      <td>OCTUBRE</td>\n",
       "      <td>20</td>\n",
       "      <td>NaN</td>\n",
       "      <td>0</td>\n",
       "      <td>NO ESPECIFICADO</td>\n",
       "      <td>NaN</td>\n",
       "      <td>2002</td>\n",
       "      <td>1</td>\n",
       "      <td>Muertes Maternas para la razón de Mortalidad M...</td>\n",
       "    </tr>\n",
       "    <tr>\n",
       "      <th>4</th>\n",
       "      <td>1975</td>\n",
       "      <td>0</td>\n",
       "      <td>NO ESPECIFICADO</td>\n",
       "      <td>0</td>\n",
       "      <td>2</td>\n",
       "      <td>A</td>\n",
       "      <td>30</td>\n",
       "      <td>5</td>\n",
       "      <td>CASADO</td>\n",
       "      <td>9</td>\n",
       "      <td>...</td>\n",
       "      <td>4</td>\n",
       "      <td>ABRIL</td>\n",
       "      <td>8</td>\n",
       "      <td>2005.0</td>\n",
       "      <td>4</td>\n",
       "      <td>ABRIL</td>\n",
       "      <td>8.0</td>\n",
       "      <td>2005</td>\n",
       "      <td>1</td>\n",
       "      <td>Muertes Maternas para la razón de Mortalidad M...</td>\n",
       "    </tr>\n",
       "  </tbody>\n",
       "</table>\n",
       "<p>5 rows × 58 columns</p>\n",
       "</div>"
      ],
      "text/plain": [
       "   Año de nacimiento  Mes de nacimiento Descripción del mes de nacimiento  \\\n",
       "0               1972                  6                             JUNIO   \n",
       "1               1967                  2                           FEBRERO   \n",
       "2               1973                  6                             JUNIO   \n",
       "3               1966                  1                             ENERO   \n",
       "4               1975                  0                   NO ESPECIFICADO   \n",
       "\n",
       "   Día de nacimiento  Genero Clave de la edad  Edad cumplida  Estado conyugal  \\\n",
       "0                 25       2                A             29                5   \n",
       "1                  1       2                A             35                5   \n",
       "2                 21       2                A             29                5   \n",
       "3                 23       2                A             36                5   \n",
       "4                  0       2                A             30                5   \n",
       "\n",
       "  Descripción del estado conyugal  Entidad de residencia  \\\n",
       "0                          CASADO                     31   \n",
       "1                          CASADO                     31   \n",
       "2                          CASADO                     31   \n",
       "3                          CASADO                     31   \n",
       "4                          CASADO                      9   \n",
       "\n",
       "                         ...                         Mes de registro  \\\n",
       "0                        ...                                       1   \n",
       "1                        ...                                       7   \n",
       "2                        ...                                      10   \n",
       "3                        ...                                      10   \n",
       "4                        ...                                       4   \n",
       "\n",
       "   Descripción del mes de registro Día de registro  Año de la certificación  \\\n",
       "0                            ENERO              20                      NaN   \n",
       "1                            JULIO              28                      NaN   \n",
       "2                          OCTUBRE              24                      NaN   \n",
       "3                          OCTUBRE              20                      NaN   \n",
       "4                            ABRIL               8                   2005.0   \n",
       "\n",
       "  Mes de la certificación  Descripció del mes de la certificación  \\\n",
       "0                       0                         NO ESPECIFICADO   \n",
       "1                       0                         NO ESPECIFICADO   \n",
       "2                       0                         NO ESPECIFICADO   \n",
       "3                       0                         NO ESPECIFICADO   \n",
       "4                       4                                   ABRIL   \n",
       "\n",
       "  Día de la certificación  Año de la base de datos  \\\n",
       "0                     NaN                     2002   \n",
       "1                     NaN                     2002   \n",
       "2                     NaN                     2002   \n",
       "3                     NaN                     2002   \n",
       "4                     8.0                     2005   \n",
       "\n",
       "  Razón de mortalidad materna  \\\n",
       "0                           1   \n",
       "1                           1   \n",
       "2                           1   \n",
       "3                           1   \n",
       "4                           1   \n",
       "\n",
       "        Descrición de la razón de mortalidad materna  \n",
       "0  Muertes Maternas para la razón de Mortalidad M...  \n",
       "1  Muertes Maternas para la razón de Mortalidad M...  \n",
       "2  Muertes Maternas para la razón de Mortalidad M...  \n",
       "3  Muertes Maternas para la razón de Mortalidad M...  \n",
       "4  Muertes Maternas para la razón de Mortalidad M...  \n",
       "\n",
       "[5 rows x 58 columns]"
      ]
     },
     "execution_count": 5,
     "metadata": {},
     "output_type": "execute_result"
    }
   ],
   "source": [
    "#Con esta función podemos visualizar los primeros 5 registros, incluyendo los encabezados\n",
    "MM.head()"
   ]
  },
  {
   "cell_type": "markdown",
   "metadata": {},
   "source": [
    "- Muestra un DataFrame que contenga: Edad cumplida, Descripción del estado conyugal, Tamaño de localidad, Localidad de ocurrencia, Descrición de la localidad de ocurrencia"
   ]
  },
  {
   "cell_type": "code",
   "execution_count": 24,
   "metadata": {},
   "outputs": [
    {
     "data": {
      "text/html": [
       "<div>\n",
       "<style scoped>\n",
       "    .dataframe tbody tr th:only-of-type {\n",
       "        vertical-align: middle;\n",
       "    }\n",
       "\n",
       "    .dataframe tbody tr th {\n",
       "        vertical-align: top;\n",
       "    }\n",
       "\n",
       "    .dataframe thead th {\n",
       "        text-align: right;\n",
       "    }\n",
       "</style>\n",
       "<table border=\"1\" class=\"dataframe\">\n",
       "  <thead>\n",
       "    <tr style=\"text-align: right;\">\n",
       "      <th></th>\n",
       "      <th>Edad cumplida</th>\n",
       "      <th>Descripción del estado conyugal</th>\n",
       "      <th>Tamaño de localidad</th>\n",
       "      <th>Localidad de ocurrencia</th>\n",
       "      <th>Descrición de la localidad de ocurrencia</th>\n",
       "      <th>Causa CIE a  cuarto dígito</th>\n",
       "    </tr>\n",
       "  </thead>\n",
       "  <tbody>\n",
       "    <tr>\n",
       "      <th>0</th>\n",
       "      <td>29</td>\n",
       "      <td>CASADO</td>\n",
       "      <td>9</td>\n",
       "      <td>1</td>\n",
       "      <td>311020001 Valladolid</td>\n",
       "      <td>O994</td>\n",
       "    </tr>\n",
       "    <tr>\n",
       "      <th>1</th>\n",
       "      <td>35</td>\n",
       "      <td>CASADO</td>\n",
       "      <td>9</td>\n",
       "      <td>1</td>\n",
       "      <td>310500001 Mérida</td>\n",
       "      <td>O141</td>\n",
       "    </tr>\n",
       "    <tr>\n",
       "      <th>2</th>\n",
       "      <td>29</td>\n",
       "      <td>CASADO</td>\n",
       "      <td>4</td>\n",
       "      <td>1</td>\n",
       "      <td>310560001 Oxkutzcab</td>\n",
       "      <td>O159</td>\n",
       "    </tr>\n",
       "    <tr>\n",
       "      <th>3</th>\n",
       "      <td>36</td>\n",
       "      <td>CASADO</td>\n",
       "      <td>1</td>\n",
       "      <td>1</td>\n",
       "      <td>310500001 Mérida</td>\n",
       "      <td>O159</td>\n",
       "    </tr>\n",
       "    <tr>\n",
       "      <th>4</th>\n",
       "      <td>30</td>\n",
       "      <td>CASADO</td>\n",
       "      <td>0</td>\n",
       "      <td>0</td>\n",
       "      <td>090160000 No especificado</td>\n",
       "      <td>O266</td>\n",
       "    </tr>\n",
       "  </tbody>\n",
       "</table>\n",
       "</div>"
      ],
      "text/plain": [
       "   Edad cumplida Descripción del estado conyugal  Tamaño de localidad  \\\n",
       "0             29                          CASADO                    9   \n",
       "1             35                          CASADO                    9   \n",
       "2             29                          CASADO                    4   \n",
       "3             36                          CASADO                    1   \n",
       "4             30                          CASADO                    0   \n",
       "\n",
       "   Localidad de ocurrencia Descrición de la localidad de ocurrencia  \\\n",
       "0                        1                     311020001 Valladolid   \n",
       "1                        1                         310500001 Mérida   \n",
       "2                        1                      310560001 Oxkutzcab   \n",
       "3                        1                         310500001 Mérida   \n",
       "4                        0                090160000 No especificado   \n",
       "\n",
       "  Causa CIE a  cuarto dígito  \n",
       "0                       O994  \n",
       "1                       O141  \n",
       "2                       O159  \n",
       "3                       O159  \n",
       "4                       O266  "
      ]
     },
     "execution_count": 24,
     "metadata": {},
     "output_type": "execute_result"
    }
   ],
   "source": [
    "#Primeramente cambio a otra base de datos para no modificar datos de la base de datos original\n",
    "MM2=MM.drop([\"Año de nacimiento\",\"Mes de nacimiento\", \"Descripción del mes de nacimiento\", \"Día de nacimiento\", \"Genero\", \"Clave de la edad\", \"Estado conyugal\"], axis=1)\n",
    "MM3=MM2.drop([\"Entidad de residencia\",\"Descripción de entidad de residencia\", \"Municipio de residencia\", \"Descripción del municipio de residencia\", \"Localidad de residencia\", \"Descripión de la localidad de residencia\", \"Descripción del tamaño de localidad\"], axis=1)\n",
    "MM4=MM3.drop([\"Ocupación habitual\", \"Descripción de la ocupación habitual\", \"Escolaridad\", \"Descripción de la escolaridad\", \"Derechiahabiencia\", \"Descrición de la derechiahabiencia\", \"Entidad de ocurrencia\", \"Mes de registro\", \"Descripción del mes de registro\", \"Día de registro\", \"Año de la certificación\", \"Mes de la certificación\", \"Descripció del mes de la certificación\", \"Día de la certificación\", \"Año de la base de datos\", \"Razón de mortalidad materna\", \"Descrición de la razón de mortalidad materna\"], axis=1)\n",
    "MM5=MM4.drop([\"Descripción de la entidad de ocurrencia\", \"Municipio de ocurrencia\", \"Descrición del municipio de ocurrencia\", \"Sitio donde ocurrio la defunción\", \"Descripción del sitio donde ocurrio la defunción\", \"Descripción de la asistencia médica\", \"Descrición de la causa CIE\", \"Quien certificó\", \"Descrición de quien certificó\", \"Entidad de registro\", \"Descrición de la entidad de registro\", \"Municipio de registro\", \"Descrición del municipio de registro\", \"Año de registro\"], axis=1)\n",
    "MM6=MM5.drop([\"Año de la defunción\", \"Mes de la defunción\", \"Descrición del mes de la defunción\", \"Día de la defunción\", \"Hora de la defunción\", \"Minutos de la defunción\", \"Asistencia médica\"], axis=1)\n",
    "MM6.head()\n",
    "#MM7=MM6.drop([\"Causa CIE a cuarto dígito\"], axis=1)\n",
    "#MM7.head()\n",
    "#No me permite borrar la columna \"Causa CIE a cuarto dígito\"\n",
    "#Pude buscar alguna funcion para solo llamar las columnas requeridas en lugar de borrar cada caolumna. por tiempo preferí así.\n"
   ]
  },
  {
   "cell_type": "markdown",
   "metadata": {},
   "source": [
    "- ¿Cuántas edades diferentes tenían las madres cuando fallecieron? Obten los estadísticos para esta columna y los valores de las edades diferentes."
   ]
  },
  {
   "cell_type": "code",
   "execution_count": 27,
   "metadata": {},
   "outputs": [],
   "source": [
    "#MM6 BASE DE DATOS\n",
    "#BUSCAR CUANTAS EDADES DIFERENTES /USANDO UNIQUE Y LEN\n",
    "#Y DESCRIBE PARA OBTENER DATOS ESTADISTICOS POR COLUMNA DE EDAD"
   ]
  },
  {
   "cell_type": "code",
   "execution_count": 26,
   "metadata": {},
   "outputs": [
    {
     "data": {
      "text/plain": [
       "array([ 29,  35,  36,  30,  20,  27,  43,  31,  39,  45,  42,  17,  38,\n",
       "        26,  21,  22,  40,  44,  34,  41,  33,  13,  24,  25,  37,  19,\n",
       "        23,  32,  28, 998,  15,  46,  48,  16,  18,  12,  47,  14,  51,\n",
       "        50,  54,  49,  11,  53,  81,  70,  82,  59,  86,  65], dtype=int64)"
      ]
     },
     "execution_count": 26,
     "metadata": {},
     "output_type": "execute_result"
    }
   ],
   "source": [
    "#edades unicas\n",
    "MM6[\"Edad cumplida\"].unique()"
   ]
  },
  {
   "cell_type": "code",
   "execution_count": 36,
   "metadata": {},
   "outputs": [
    {
     "name": "stdout",
     "output_type": "stream",
     "text": [
      "Se obtuvieron que habia 50 edades diferentes de las madres que fallecieron\n"
     ]
    }
   ],
   "source": [
    "#cuantas edades unicas\n",
    "a= len(MM6[\"Edad cumplida\"].unique())\n",
    "print(\"Se obtuvieron que habia \"+str(a)+\" edades diferentes de las madres que fallecieron\")"
   ]
  },
  {
   "cell_type": "code",
   "execution_count": 31,
   "metadata": {},
   "outputs": [
    {
     "data": {
      "text/html": [
       "<div>\n",
       "<style scoped>\n",
       "    .dataframe tbody tr th:only-of-type {\n",
       "        vertical-align: middle;\n",
       "    }\n",
       "\n",
       "    .dataframe tbody tr th {\n",
       "        vertical-align: top;\n",
       "    }\n",
       "\n",
       "    .dataframe thead th {\n",
       "        text-align: right;\n",
       "    }\n",
       "</style>\n",
       "<table border=\"1\" class=\"dataframe\">\n",
       "  <thead>\n",
       "    <tr style=\"text-align: right;\">\n",
       "      <th></th>\n",
       "      <th>Edad cumplida</th>\n",
       "    </tr>\n",
       "  </thead>\n",
       "  <tbody>\n",
       "    <tr>\n",
       "      <th>count</th>\n",
       "      <td>17232.000000</td>\n",
       "    </tr>\n",
       "    <tr>\n",
       "      <th>mean</th>\n",
       "      <td>29.765727</td>\n",
       "    </tr>\n",
       "    <tr>\n",
       "      <th>std</th>\n",
       "      <td>36.916010</td>\n",
       "    </tr>\n",
       "    <tr>\n",
       "      <th>min</th>\n",
       "      <td>11.000000</td>\n",
       "    </tr>\n",
       "    <tr>\n",
       "      <th>25%</th>\n",
       "      <td>22.000000</td>\n",
       "    </tr>\n",
       "    <tr>\n",
       "      <th>50%</th>\n",
       "      <td>28.000000</td>\n",
       "    </tr>\n",
       "    <tr>\n",
       "      <th>75%</th>\n",
       "      <td>34.000000</td>\n",
       "    </tr>\n",
       "    <tr>\n",
       "      <th>max</th>\n",
       "      <td>998.000000</td>\n",
       "    </tr>\n",
       "  </tbody>\n",
       "</table>\n",
       "</div>"
      ],
      "text/plain": [
       "       Edad cumplida\n",
       "count   17232.000000\n",
       "mean       29.765727\n",
       "std        36.916010\n",
       "min        11.000000\n",
       "25%        22.000000\n",
       "50%        28.000000\n",
       "75%        34.000000\n",
       "max       998.000000"
      ]
     },
     "execution_count": 31,
     "metadata": {},
     "output_type": "execute_result"
    }
   ],
   "source": [
    "#Se utiliza la funcion describe para obtener datos estadisticos\n",
    "#utilice la base de datos indicando de que columna ocupo la información\n",
    "#utilizo doble corchete por presentación\n",
    "MM6[[\"Edad cumplida\"]].describe()"
   ]
  },
  {
   "cell_type": "markdown",
   "metadata": {},
   "source": [
    "- Imprime los valores de los años de defunción ¿ Existen datos que son lógicos, es decir, están correctos?"
   ]
  },
  {
   "cell_type": "code",
   "execution_count": 39,
   "metadata": {},
   "outputs": [
    {
     "data": {
      "text/plain": [
       "array([2002, 2005, 2003, 2008, 2013, 2012, 2009, 2010, 2011, 2004, 2006,\n",
       "       2007, 2001, 1979, 1989, 1974, 1964, 1982, 1959, 1990, 1980, 1994,\n",
       "       1977, 1976, 1938, 1970, 1949, 1997, 1956, 1961, 1957, 1985, 1975,\n",
       "       2000,    0, 1948, 1971, 1978, 1984, 1993, 1992, 1972, 1973, 1986,\n",
       "       1988, 1937, 1965, 1944, 1987, 1943, 1958, 1967, 1968, 1995, 1991,\n",
       "       1969, 1999, 1966, 1963, 1953, 1954, 1962, 1950, 1996, 2014, 2015,\n",
       "       1914, 1951, 2016], dtype=int64)"
      ]
     },
     "execution_count": 39,
     "metadata": {},
     "output_type": "execute_result"
    }
   ],
   "source": [
    "#puedo imprimir como una tabla, pero dejo como comentario la opcion\n",
    "#print(MM[[\"Año de la defunción\"]])\n",
    "\n",
    "#imprimo como datos unicos\n",
    "MM[\"Año de la defunción\"].unique()"
   ]
  },
  {
   "cell_type": "markdown",
   "metadata": {},
   "source": [
    "    -  Podemos concluir con no todos los datos son lógicos o correctos, ya que hay datos en \"0, cero\""
   ]
  },
  {
   "cell_type": "markdown",
   "metadata": {},
   "source": [
    "- ¿Cuántos tipos de escolaridad existen? ¿Hay datos innecesarios o equivocados en la base de datos?"
   ]
  },
  {
   "cell_type": "code",
   "execution_count": 43,
   "metadata": {},
   "outputs": [
    {
     "name": "stdout",
     "output_type": "stream",
     "text": [
      "Se concluye que existen 12 tipos de escolaridad\n"
     ]
    }
   ],
   "source": [
    "#\"Escolaridad\", \"Descripción de la escolaridad\"\n",
    "#MM[\"Escolaridad\"].unique()\n",
    "#No me sirve por que me marca un valor como de identificación\n",
    "MM[\"Descripción de la escolaridad\"].unique()\n",
    "b=len(MM[\"Descripción de la escolaridad\"].unique())\n",
    "print(\"Se concluye que existen \"+str(b)+\" tipos de escolaridad\")"
   ]
  },
  {
   "cell_type": "markdown",
   "metadata": {},
   "source": [
    "    - Tambien podemos observar en el siguiente resultado que hay datos vacíos o equivocados"
   ]
  },
  {
   "cell_type": "code",
   "execution_count": 45,
   "metadata": {},
   "outputs": [
    {
     "data": {
      "text/plain": [
       "array(['PRIMARIA INCOMPLETA', 'SECUNDARIA INCOMPLETA', 'PROFESIONAL',\n",
       "       'NINGUNA', 'SECUNDARIA COMPLETA', 'NO ESPECIFICADO', 'POSGRADO',\n",
       "       'PRIMARIA COMPLETA', 'BACHILLERATO O PREPARATORIA COMPLETA',\n",
       "       'BACHILLERATO O PREPARATORIA INCOMPLETA', 'NO ESPECIFICADO\\r\\n',\n",
       "       'PREESCOLAR'], dtype=object)"
      ]
     },
     "execution_count": 45,
     "metadata": {},
     "output_type": "execute_result"
    }
   ],
   "source": [
    "MM[\"Descripción de la escolaridad\"].unique()"
   ]
  },
  {
   "cell_type": "markdown",
   "metadata": {},
   "source": [
    "- ¿Qué entidad tiene mayor número muertes?"
   ]
  },
  {
   "cell_type": "code",
   "execution_count": 57,
   "metadata": {},
   "outputs": [],
   "source": [
    "#De la base original siempre reviso que columnas puedo utilizar para mi analisis.\n",
    "#\"Entidad de ocurrencia\"\n",
    "#\"Descripción de la entidad de ocurrencia\"\n",
    "#No me sirve entidad   Ocurr=MM.set_index(\"Entidad de ocurrencia\")\n",
    "MMOCURR=MM4.drop([\"Municipio de ocurrencia\", \"Descrición del municipio de ocurrencia\", \"Sitio donde ocurrio la defunción\", \"Descripción del sitio donde ocurrio la defunción\", \"Descripción de la asistencia médica\", \"Descrición de la causa CIE\", \"Quien certificó\", \"Descrición de quien certificó\", \"Entidad de registro\", \"Descrición de la entidad de registro\", \"Municipio de registro\", \"Descrición del municipio de registro\", \"Año de registro\"], axis=1)\n",
    "MMOCURR2=MMOCURR.drop([\"Año de la defunción\", \"Mes de la defunción\", \"Descrición del mes de la defunción\", \"Día de la defunción\", \"Hora de la defunción\", \"Minutos de la defunción\", \"Asistencia médica\"], axis=1)\n",
    "MMOCURR3=MMOCURR2.drop([\"Edad cumplida\", \"Descripción del estado conyugal\", \"Tamaño de localidad\", \"Localidad de ocurrencia\", \"Descrición de la localidad de ocurrencia\"], axis=1)\n",
    "Ocurr=MMOCURR3.set_index(\"Descripción de la entidad de ocurrencia\")\n",
    "#No se puede borrar Causa... etc\n",
    "#cuenta=Ocurr[\"Descripción de la entidad de ocurrencia\"].count()\n",
    "#print(cuenta)"
   ]
  },
  {
   "cell_type": "markdown",
   "metadata": {},
   "source": [
    "# 2. Búsqueda de Datos"
   ]
  },
  {
   "cell_type": "markdown",
   "metadata": {},
   "source": [
    "    - Imprime 2 DataFrames que sinteticen cierta información. Estos DataFrames deberán estar explicados con el contexto y el razón de porque son relevantes. Imprime solo el encabezado.\n",
    "\n",
    "    - Puntos extra: Entrega un análisis simple de cada DataFrame"
   ]
  },
  {
   "cell_type": "markdown",
   "metadata": {},
   "source": [
    "\n",
    "- DataFrame 1\n",
    "    Se requiere analizar si hay relación entre la edad cumplidad y la razón de mortalidad."
   ]
  },
  {
   "cell_type": "code",
   "execution_count": 63,
   "metadata": {},
   "outputs": [
    {
     "data": {
      "text/html": [
       "<div>\n",
       "<style scoped>\n",
       "    .dataframe tbody tr th:only-of-type {\n",
       "        vertical-align: middle;\n",
       "    }\n",
       "\n",
       "    .dataframe tbody tr th {\n",
       "        vertical-align: top;\n",
       "    }\n",
       "\n",
       "    .dataframe thead th {\n",
       "        text-align: right;\n",
       "    }\n",
       "</style>\n",
       "<table border=\"1\" class=\"dataframe\">\n",
       "  <thead>\n",
       "    <tr style=\"text-align: right;\">\n",
       "      <th></th>\n",
       "      <th>Edad cumplida</th>\n",
       "      <th>Descripción de entidad de residencia</th>\n",
       "      <th>Causa CIE a  cuarto dígito</th>\n",
       "    </tr>\n",
       "  </thead>\n",
       "  <tbody>\n",
       "    <tr>\n",
       "      <th>0</th>\n",
       "      <td>29</td>\n",
       "      <td>Yucatán</td>\n",
       "      <td>O994</td>\n",
       "    </tr>\n",
       "    <tr>\n",
       "      <th>1</th>\n",
       "      <td>35</td>\n",
       "      <td>Yucatán</td>\n",
       "      <td>O141</td>\n",
       "    </tr>\n",
       "    <tr>\n",
       "      <th>2</th>\n",
       "      <td>29</td>\n",
       "      <td>Yucatán</td>\n",
       "      <td>O159</td>\n",
       "    </tr>\n",
       "    <tr>\n",
       "      <th>3</th>\n",
       "      <td>36</td>\n",
       "      <td>Yucatán</td>\n",
       "      <td>O159</td>\n",
       "    </tr>\n",
       "    <tr>\n",
       "      <th>4</th>\n",
       "      <td>30</td>\n",
       "      <td>Distrito Federal</td>\n",
       "      <td>O266</td>\n",
       "    </tr>\n",
       "  </tbody>\n",
       "</table>\n",
       "</div>"
      ],
      "text/plain": [
       "   Edad cumplida Descripción de entidad de residencia  \\\n",
       "0             29                              Yucatán   \n",
       "1             35                              Yucatán   \n",
       "2             29                              Yucatán   \n",
       "3             36                              Yucatán   \n",
       "4             30                     Distrito Federal   \n",
       "\n",
       "  Causa CIE a  cuarto dígito  \n",
       "0                       O994  \n",
       "1                       O141  \n",
       "2                       O159  \n",
       "3                       O159  \n",
       "4                       O266  "
      ]
     },
     "execution_count": 63,
     "metadata": {},
     "output_type": "execute_result"
    }
   ],
   "source": [
    "#Descripción de entidad de residencia\n",
    "#Edad cumplida\n",
    "\n",
    "MM22=MM.drop([\"Año de nacimiento\",\"Mes de nacimiento\", \"Descripción del mes de nacimiento\", \"Día de nacimiento\", \"Genero\", \"Clave de la edad\", \"Estado conyugal\"], axis=1)\n",
    "MM33=MM22.drop([\"Entidad de residencia\",\"Descrición de la razón de mortalidad materna\", \"Municipio de residencia\", \"Descripción del municipio de residencia\", \"Localidad de residencia\", \"Descripión de la localidad de residencia\", \"Descripción del tamaño de localidad\"], axis=1)\n",
    "MM44=MM33.drop([\"Ocupación habitual\", \"Descripción de la ocupación habitual\", \"Escolaridad\", \"Descripción de la escolaridad\", \"Derechiahabiencia\", \"Descrición de la derechiahabiencia\", \"Entidad de ocurrencia\", \"Mes de registro\", \"Descripción del mes de registro\", \"Día de registro\", \"Año de la certificación\", \"Mes de la certificación\", \"Descripció del mes de la certificación\", \"Día de la certificación\", \"Año de la base de datos\", \"Razón de mortalidad materna\",], axis=1)\n",
    "MM55=MM44.drop([\"Descripción de la entidad de ocurrencia\", \"Municipio de ocurrencia\", \"Descrición del municipio de ocurrencia\", \"Sitio donde ocurrio la defunción\", \"Descripción del sitio donde ocurrio la defunción\", \"Descripción de la asistencia médica\", \"Descrición de la causa CIE\", \"Quien certificó\", \"Descrición de quien certificó\", \"Entidad de registro\", \"Descrición de la entidad de registro\", \"Municipio de registro\", \"Descrición del municipio de registro\", \"Año de registro\"], axis=1)\n",
    "MM66=MM55.drop([\"Año de la defunción\", \"Mes de la defunción\", \"Descrición del mes de la defunción\", \"Día de la defunción\", \"Hora de la defunción\", \"Minutos de la defunción\", \"Asistencia médica\"], axis=1)\n",
    "MM77=MM66.drop([\"Descripción del estado conyugal\", \"Tamaño de localidad\", \"Localidad de ocurrencia\", \"Descrición de la localidad de ocurrencia\"], axis=1)\n",
    "MM77.head()\n",
    "#utilizo un metodo donde me arroja mas informaciòn para analizarla. solo imprimire encabezados.\n",
    "#pd.DataFrame(MM77)"
   ]
  },
  {
   "cell_type": "code",
   "execution_count": 75,
   "metadata": {},
   "outputs": [
    {
     "data": {
      "text/html": [
       "<div>\n",
       "<style scoped>\n",
       "    .dataframe tbody tr th:only-of-type {\n",
       "        vertical-align: middle;\n",
       "    }\n",
       "\n",
       "    .dataframe tbody tr th {\n",
       "        vertical-align: top;\n",
       "    }\n",
       "\n",
       "    .dataframe thead th {\n",
       "        text-align: right;\n",
       "    }\n",
       "</style>\n",
       "<table border=\"1\" class=\"dataframe\">\n",
       "  <thead>\n",
       "    <tr style=\"text-align: right;\">\n",
       "      <th></th>\n",
       "      <th>Edad cumplida</th>\n",
       "    </tr>\n",
       "  </thead>\n",
       "  <tbody>\n",
       "    <tr>\n",
       "      <th>count</th>\n",
       "      <td>17232.000000</td>\n",
       "    </tr>\n",
       "    <tr>\n",
       "      <th>mean</th>\n",
       "      <td>29.765727</td>\n",
       "    </tr>\n",
       "    <tr>\n",
       "      <th>std</th>\n",
       "      <td>36.916010</td>\n",
       "    </tr>\n",
       "    <tr>\n",
       "      <th>min</th>\n",
       "      <td>11.000000</td>\n",
       "    </tr>\n",
       "    <tr>\n",
       "      <th>25%</th>\n",
       "      <td>22.000000</td>\n",
       "    </tr>\n",
       "    <tr>\n",
       "      <th>50%</th>\n",
       "      <td>28.000000</td>\n",
       "    </tr>\n",
       "    <tr>\n",
       "      <th>75%</th>\n",
       "      <td>34.000000</td>\n",
       "    </tr>\n",
       "    <tr>\n",
       "      <th>max</th>\n",
       "      <td>998.000000</td>\n",
       "    </tr>\n",
       "  </tbody>\n",
       "</table>\n",
       "</div>"
      ],
      "text/plain": [
       "       Edad cumplida\n",
       "count   17232.000000\n",
       "mean       29.765727\n",
       "std        36.916010\n",
       "min        11.000000\n",
       "25%        22.000000\n",
       "50%        28.000000\n",
       "75%        34.000000\n",
       "max       998.000000"
      ]
     },
     "execution_count": 75,
     "metadata": {},
     "output_type": "execute_result"
    }
   ],
   "source": [
    "#analisis=MM77[\"Edad cumplida\"]\n",
    "#parámetro=25\n",
    "#for each MM77[\"Edad cumplida\"] < parametro:\n",
    "#    print(MM77[\"Descripción de entidad de residencia\"])\n",
    "#else print (\"son mayores a 25\")\n",
    "search=MM77.set_index(\"Descripción de entidad de residencia\")\n",
    "search.loc[\"Yucatán\"]\n",
    "search.describe()"
   ]
  },
  {
   "cell_type": "markdown",
   "metadata": {},
   "source": [
    "    -Podriamos comentar de esta DataFrame que la mayoría de las mujeres en Yucatán fallecen a los 34 años o menos."
   ]
  },
  {
   "cell_type": "markdown",
   "metadata": {},
   "source": [
    "- DataFrame 2 Se requiere analizar si hay relación entre la edad cumplidad y su escoralidad"
   ]
  },
  {
   "cell_type": "code",
   "execution_count": 78,
   "metadata": {},
   "outputs": [
    {
     "data": {
      "text/html": [
       "<div>\n",
       "<style scoped>\n",
       "    .dataframe tbody tr th:only-of-type {\n",
       "        vertical-align: middle;\n",
       "    }\n",
       "\n",
       "    .dataframe tbody tr th {\n",
       "        vertical-align: top;\n",
       "    }\n",
       "\n",
       "    .dataframe thead th {\n",
       "        text-align: right;\n",
       "    }\n",
       "</style>\n",
       "<table border=\"1\" class=\"dataframe\">\n",
       "  <thead>\n",
       "    <tr style=\"text-align: right;\">\n",
       "      <th></th>\n",
       "      <th>Edad cumplida</th>\n",
       "      <th>Descripción de la escolaridad</th>\n",
       "      <th>Descripción de la asistencia médica</th>\n",
       "      <th>Causa CIE a  cuarto dígito</th>\n",
       "    </tr>\n",
       "  </thead>\n",
       "  <tbody>\n",
       "    <tr>\n",
       "      <th>0</th>\n",
       "      <td>29</td>\n",
       "      <td>PRIMARIA INCOMPLETA</td>\n",
       "      <td>CON ATENCION MEDICA</td>\n",
       "      <td>O994</td>\n",
       "    </tr>\n",
       "    <tr>\n",
       "      <th>1</th>\n",
       "      <td>35</td>\n",
       "      <td>PRIMARIA INCOMPLETA</td>\n",
       "      <td>CON ATENCION MEDICA</td>\n",
       "      <td>O141</td>\n",
       "    </tr>\n",
       "    <tr>\n",
       "      <th>2</th>\n",
       "      <td>29</td>\n",
       "      <td>PRIMARIA INCOMPLETA</td>\n",
       "      <td>CON ATENCION MEDICA</td>\n",
       "      <td>O159</td>\n",
       "    </tr>\n",
       "    <tr>\n",
       "      <th>3</th>\n",
       "      <td>36</td>\n",
       "      <td>PRIMARIA INCOMPLETA</td>\n",
       "      <td>CON ATENCION MEDICA</td>\n",
       "      <td>O159</td>\n",
       "    </tr>\n",
       "    <tr>\n",
       "      <th>4</th>\n",
       "      <td>30</td>\n",
       "      <td>SECUNDARIA INCOMPLETA</td>\n",
       "      <td>CON ATENCION MEDICA</td>\n",
       "      <td>O266</td>\n",
       "    </tr>\n",
       "  </tbody>\n",
       "</table>\n",
       "</div>"
      ],
      "text/plain": [
       "   Edad cumplida Descripción de la escolaridad  \\\n",
       "0             29           PRIMARIA INCOMPLETA   \n",
       "1             35           PRIMARIA INCOMPLETA   \n",
       "2             29           PRIMARIA INCOMPLETA   \n",
       "3             36           PRIMARIA INCOMPLETA   \n",
       "4             30         SECUNDARIA INCOMPLETA   \n",
       "\n",
       "  Descripción de la asistencia médica Causa CIE a  cuarto dígito  \n",
       "0                 CON ATENCION MEDICA                       O994  \n",
       "1                 CON ATENCION MEDICA                       O141  \n",
       "2                 CON ATENCION MEDICA                       O159  \n",
       "3                 CON ATENCION MEDICA                       O159  \n",
       "4                 CON ATENCION MEDICA                       O266  "
      ]
     },
     "execution_count": 78,
     "metadata": {},
     "output_type": "execute_result"
    }
   ],
   "source": [
    "#Descripción de la escolaridad\n",
    "#Descripción de la asistencia médica\n",
    "#Edad cumplida\n",
    "\n",
    "MM222=MM.drop([\"Año de nacimiento\",\"Mes de nacimiento\", \"Descripción del mes de nacimiento\", \"Día de nacimiento\", \"Genero\", \"Clave de la edad\", \"Estado conyugal\"], axis=1)\n",
    "MM333=MM222.drop([\"Entidad de residencia\",\"Descrición de la razón de mortalidad materna\", \"Municipio de residencia\", \"Descripción del municipio de residencia\", \"Localidad de residencia\", \"Descripión de la localidad de residencia\", \"Descripción del tamaño de localidad\"], axis=1)\n",
    "MM444=MM333.drop([\"Ocupación habitual\", \"Descripción de la ocupación habitual\", \"Escolaridad\", \"Descripción de entidad de residencia\", \"Derechiahabiencia\", \"Descrición de la derechiahabiencia\", \"Entidad de ocurrencia\", \"Mes de registro\", \"Descripción del mes de registro\", \"Día de registro\", \"Año de la certificación\", \"Mes de la certificación\", \"Descripció del mes de la certificación\", \"Día de la certificación\", \"Año de la base de datos\", \"Razón de mortalidad materna\",], axis=1)\n",
    "MM555=MM444.drop([\"Descripción de la entidad de ocurrencia\", \"Municipio de ocurrencia\", \"Descrición del municipio de ocurrencia\", \"Sitio donde ocurrio la defunción\", \"Descripción del sitio donde ocurrio la defunción\", \"Descrición de la causa CIE\", \"Quien certificó\", \"Descrición de quien certificó\", \"Entidad de registro\", \"Descrición de la entidad de registro\", \"Municipio de registro\", \"Descrición del municipio de registro\", \"Año de registro\"], axis=1)\n",
    "MM666=MM555.drop([\"Año de la defunción\", \"Mes de la defunción\", \"Descrición del mes de la defunción\", \"Día de la defunción\", \"Hora de la defunción\", \"Minutos de la defunción\", \"Asistencia médica\"], axis=1)\n",
    "MM777=MM666.drop([\"Descripción del estado conyugal\", \"Tamaño de localidad\", \"Localidad de ocurrencia\", \"Descrición de la localidad de ocurrencia\"], axis=1)\n",
    "MM777.head()\n",
    "#utilizo un metodo donde me arroja mas informaciòn para analizarla. solo imprimire encabezados.\n",
    "#pd.DataFrame(MM777)"
   ]
  },
  {
   "cell_type": "code",
   "execution_count": 81,
   "metadata": {},
   "outputs": [
    {
     "data": {
      "text/html": [
       "<div>\n",
       "<style scoped>\n",
       "    .dataframe tbody tr th:only-of-type {\n",
       "        vertical-align: middle;\n",
       "    }\n",
       "\n",
       "    .dataframe tbody tr th {\n",
       "        vertical-align: top;\n",
       "    }\n",
       "\n",
       "    .dataframe thead th {\n",
       "        text-align: right;\n",
       "    }\n",
       "</style>\n",
       "<table border=\"1\" class=\"dataframe\">\n",
       "  <thead>\n",
       "    <tr style=\"text-align: right;\">\n",
       "      <th></th>\n",
       "      <th>Edad cumplida</th>\n",
       "    </tr>\n",
       "  </thead>\n",
       "  <tbody>\n",
       "    <tr>\n",
       "      <th>count</th>\n",
       "      <td>17232.000000</td>\n",
       "    </tr>\n",
       "    <tr>\n",
       "      <th>mean</th>\n",
       "      <td>29.765727</td>\n",
       "    </tr>\n",
       "    <tr>\n",
       "      <th>std</th>\n",
       "      <td>36.916010</td>\n",
       "    </tr>\n",
       "    <tr>\n",
       "      <th>min</th>\n",
       "      <td>11.000000</td>\n",
       "    </tr>\n",
       "    <tr>\n",
       "      <th>25%</th>\n",
       "      <td>22.000000</td>\n",
       "    </tr>\n",
       "    <tr>\n",
       "      <th>50%</th>\n",
       "      <td>28.000000</td>\n",
       "    </tr>\n",
       "    <tr>\n",
       "      <th>75%</th>\n",
       "      <td>34.000000</td>\n",
       "    </tr>\n",
       "    <tr>\n",
       "      <th>max</th>\n",
       "      <td>998.000000</td>\n",
       "    </tr>\n",
       "  </tbody>\n",
       "</table>\n",
       "</div>"
      ],
      "text/plain": [
       "       Edad cumplida\n",
       "count   17232.000000\n",
       "mean       29.765727\n",
       "std        36.916010\n",
       "min        11.000000\n",
       "25%        22.000000\n",
       "50%        28.000000\n",
       "75%        34.000000\n",
       "max       998.000000"
      ]
     },
     "execution_count": 81,
     "metadata": {},
     "output_type": "execute_result"
    }
   ],
   "source": [
    "search2=MM777.set_index(\"Descripción de la escolaridad\")\n",
    "search2.loc[\"PRIMARIA INCOMPLETA\"]\n",
    "search2.describe()"
   ]
  },
  {
   "cell_type": "markdown",
   "metadata": {},
   "source": [
    "- Podriamos comentar de esta DataFrame que la mayoría de las mujeres con una escolaridad baja fallecen a los 34 años o menos."
   ]
  },
  {
   "cell_type": "markdown",
   "metadata": {},
   "source": [
    "# 3. Información Gráfica"
   ]
  },
  {
   "cell_type": "markdown",
   "metadata": {},
   "source": [
    "- Realiza un analísis utilizando una gráfica de línea"
   ]
  },
  {
   "cell_type": "code",
   "execution_count": 100,
   "metadata": {},
   "outputs": [
    {
     "data": {
      "image/png": "[encoded data removed]",
      "text/plain": [
       "<Figure size 432x288 with 1 Axes>"
      ]
     },
     "metadata": {
      "needs_background": "light"
     },
     "output_type": "display_data"
    }
   ],
   "source": [
    "MM777[\"Edad cumplida\"].plot(kind=\"line\")\n",
    "plt.ylim(0,20)\n",
    "plt.xlim(0,50)\n",
    "plt.show()"
   ]
  },
  {
   "cell_type": "markdown",
   "metadata": {},
   "source": [
    "- Realiza un análisis de la relación entre dos variables."
   ]
  },
  {
   "cell_type": "code",
   "execution_count": 92,
   "metadata": {},
   "outputs": [
    {
     "data": {
      "text/html": [
       "<div>\n",
       "<style scoped>\n",
       "    .dataframe tbody tr th:only-of-type {\n",
       "        vertical-align: middle;\n",
       "    }\n",
       "\n",
       "    .dataframe tbody tr th {\n",
       "        vertical-align: top;\n",
       "    }\n",
       "\n",
       "    .dataframe thead th {\n",
       "        text-align: right;\n",
       "    }\n",
       "</style>\n",
       "<table border=\"1\" class=\"dataframe\">\n",
       "  <thead>\n",
       "    <tr style=\"text-align: right;\">\n",
       "      <th></th>\n",
       "      <th>Edad cumplida</th>\n",
       "      <th>Descripción del estado conyugal</th>\n",
       "      <th>Tamaño de localidad</th>\n",
       "      <th>Escolaridad</th>\n",
       "      <th>Descripción de la escolaridad</th>\n",
       "      <th>Causa CIE a  cuarto dígito</th>\n",
       "    </tr>\n",
       "  </thead>\n",
       "  <tbody>\n",
       "    <tr>\n",
       "      <th>0</th>\n",
       "      <td>29</td>\n",
       "      <td>CASADO</td>\n",
       "      <td>9</td>\n",
       "      <td>2</td>\n",
       "      <td>PRIMARIA INCOMPLETA</td>\n",
       "      <td>O994</td>\n",
       "    </tr>\n",
       "    <tr>\n",
       "      <th>1</th>\n",
       "      <td>35</td>\n",
       "      <td>CASADO</td>\n",
       "      <td>9</td>\n",
       "      <td>2</td>\n",
       "      <td>PRIMARIA INCOMPLETA</td>\n",
       "      <td>O141</td>\n",
       "    </tr>\n",
       "    <tr>\n",
       "      <th>2</th>\n",
       "      <td>29</td>\n",
       "      <td>CASADO</td>\n",
       "      <td>4</td>\n",
       "      <td>2</td>\n",
       "      <td>PRIMARIA INCOMPLETA</td>\n",
       "      <td>O159</td>\n",
       "    </tr>\n",
       "    <tr>\n",
       "      <th>3</th>\n",
       "      <td>36</td>\n",
       "      <td>CASADO</td>\n",
       "      <td>1</td>\n",
       "      <td>2</td>\n",
       "      <td>PRIMARIA INCOMPLETA</td>\n",
       "      <td>O159</td>\n",
       "    </tr>\n",
       "    <tr>\n",
       "      <th>4</th>\n",
       "      <td>30</td>\n",
       "      <td>CASADO</td>\n",
       "      <td>0</td>\n",
       "      <td>4</td>\n",
       "      <td>SECUNDARIA INCOMPLETA</td>\n",
       "      <td>O266</td>\n",
       "    </tr>\n",
       "  </tbody>\n",
       "</table>\n",
       "</div>"
      ],
      "text/plain": [
       "   Edad cumplida Descripción del estado conyugal  Tamaño de localidad  \\\n",
       "0             29                          CASADO                    9   \n",
       "1             35                          CASADO                    9   \n",
       "2             29                          CASADO                    4   \n",
       "3             36                          CASADO                    1   \n",
       "4             30                          CASADO                    0   \n",
       "\n",
       "   Escolaridad Descripción de la escolaridad Causa CIE a  cuarto dígito  \n",
       "0            2           PRIMARIA INCOMPLETA                       O994  \n",
       "1            2           PRIMARIA INCOMPLETA                       O141  \n",
       "2            2           PRIMARIA INCOMPLETA                       O159  \n",
       "3            2           PRIMARIA INCOMPLETA                       O159  \n",
       "4            4         SECUNDARIA INCOMPLETA                       O266  "
      ]
     },
     "execution_count": 92,
     "metadata": {},
     "output_type": "execute_result"
    }
   ],
   "source": [
    "#Hay relación entre la edad cumplida y la escolaridad\n",
    "# importar todas las funciones de pylab\n",
    "#from pylab import *\n",
    "\n",
    "MM2=MM.drop([\"Año de nacimiento\",\"Mes de nacimiento\", \"Descripción del mes de nacimiento\", \"Día de nacimiento\", \"Genero\", \"Clave de la edad\", \"Estado conyugal\"], axis=1)\n",
    "MM3=MM2.drop([\"Entidad de residencia\",\"Descripción de entidad de residencia\", \"Municipio de residencia\", \"Descripción del municipio de residencia\", \"Localidad de residencia\", \"Descripión de la localidad de residencia\", \"Descripción del tamaño de localidad\"], axis=1)\n",
    "MM4=MM3.drop([\"Ocupación habitual\", \"Descripción de la ocupación habitual\", \"Localidad de ocurrencia\", \"Descrición de la localidad de ocurrencia\", \"Derechiahabiencia\", \"Descrición de la derechiahabiencia\", \"Entidad de ocurrencia\", \"Mes de registro\", \"Descripción del mes de registro\", \"Día de registro\", \"Año de la certificación\", \"Mes de la certificación\", \"Descripció del mes de la certificación\", \"Día de la certificación\", \"Año de la base de datos\", \"Razón de mortalidad materna\", \"Descrición de la razón de mortalidad materna\"], axis=1)\n",
    "MM5=MM4.drop([\"Descripción de la entidad de ocurrencia\", \"Municipio de ocurrencia\", \"Descrición del municipio de ocurrencia\", \"Sitio donde ocurrio la defunción\", \"Descripción del sitio donde ocurrio la defunción\", \"Descripción de la asistencia médica\", \"Descrición de la causa CIE\", \"Quien certificó\", \"Descrición de quien certificó\", \"Entidad de registro\", \"Descrición de la entidad de registro\", \"Municipio de registro\", \"Descrición del municipio de registro\", \"Año de registro\"], axis=1)\n",
    "MM6=MM5.drop([\"Año de la defunción\", \"Mes de la defunción\", \"Descrición del mes de la defunción\", \"Día de la defunción\", \"Hora de la defunción\", \"Minutos de la defunción\", \"Asistencia médica\"], axis=1)\n",
    "MM6.head()\n",
    "\n"
   ]
  },
  {
   "cell_type": "code",
   "execution_count": 99,
   "metadata": {},
   "outputs": [
    {
     "data": {
      "image/png": "[encoded data removed]",
      "text/plain": [
       "<Figure size 432x288 with 1 Axes>"
      ]
     },
     "metadata": {
      "needs_background": "light"
     },
     "output_type": "display_data"
    }
   ],
   "source": [
    "#limito rangos de mi grafica\n",
    "MM6.plot.scatter(\"Edad cumplida\", \"Escolaridad\")\n",
    "plt.ylim(0,20)\n",
    "plt.xlim(0,50)\n",
    "plt.show()"
   ]
  },
  {
   "cell_type": "markdown",
   "metadata": {},
   "source": [
    "#### Conclusión: a menor edad de fallecimiento, se muestra que hay menor escolaridad."
   ]
  },
  {
   "cell_type": "markdown",
   "metadata": {},
   "source": [
    "- Realicen una análisis de correlación para 4 variables (PUNTOS EXTRA) (¿Scatter or density?)"
   ]
  },
  {
   "cell_type": "code",
   "execution_count": 103,
   "metadata": {},
   "outputs": [
    {
     "data": {
      "text/html": [
       "<div>\n",
       "<style scoped>\n",
       "    .dataframe tbody tr th:only-of-type {\n",
       "        vertical-align: middle;\n",
       "    }\n",
       "\n",
       "    .dataframe tbody tr th {\n",
       "        vertical-align: top;\n",
       "    }\n",
       "\n",
       "    .dataframe thead th {\n",
       "        text-align: right;\n",
       "    }\n",
       "</style>\n",
       "<table border=\"1\" class=\"dataframe\">\n",
       "  <thead>\n",
       "    <tr style=\"text-align: right;\">\n",
       "      <th></th>\n",
       "      <th>Edad cumplida</th>\n",
       "      <th>Entidad de residencia</th>\n",
       "      <th>Descripción de entidad de residencia</th>\n",
       "      <th>Escolaridad</th>\n",
       "      <th>Descripción de la escolaridad</th>\n",
       "      <th>Localidad de ocurrencia</th>\n",
       "      <th>Descrición de la localidad de ocurrencia</th>\n",
       "      <th>Causa CIE a  cuarto dígito</th>\n",
       "    </tr>\n",
       "  </thead>\n",
       "  <tbody>\n",
       "    <tr>\n",
       "      <th>0</th>\n",
       "      <td>29</td>\n",
       "      <td>31</td>\n",
       "      <td>Yucatán</td>\n",
       "      <td>2</td>\n",
       "      <td>PRIMARIA INCOMPLETA</td>\n",
       "      <td>1</td>\n",
       "      <td>311020001 Valladolid</td>\n",
       "      <td>O994</td>\n",
       "    </tr>\n",
       "    <tr>\n",
       "      <th>1</th>\n",
       "      <td>35</td>\n",
       "      <td>31</td>\n",
       "      <td>Yucatán</td>\n",
       "      <td>2</td>\n",
       "      <td>PRIMARIA INCOMPLETA</td>\n",
       "      <td>1</td>\n",
       "      <td>310500001 Mérida</td>\n",
       "      <td>O141</td>\n",
       "    </tr>\n",
       "    <tr>\n",
       "      <th>2</th>\n",
       "      <td>29</td>\n",
       "      <td>31</td>\n",
       "      <td>Yucatán</td>\n",
       "      <td>2</td>\n",
       "      <td>PRIMARIA INCOMPLETA</td>\n",
       "      <td>1</td>\n",
       "      <td>310560001 Oxkutzcab</td>\n",
       "      <td>O159</td>\n",
       "    </tr>\n",
       "    <tr>\n",
       "      <th>3</th>\n",
       "      <td>36</td>\n",
       "      <td>31</td>\n",
       "      <td>Yucatán</td>\n",
       "      <td>2</td>\n",
       "      <td>PRIMARIA INCOMPLETA</td>\n",
       "      <td>1</td>\n",
       "      <td>310500001 Mérida</td>\n",
       "      <td>O159</td>\n",
       "    </tr>\n",
       "    <tr>\n",
       "      <th>4</th>\n",
       "      <td>30</td>\n",
       "      <td>9</td>\n",
       "      <td>Distrito Federal</td>\n",
       "      <td>4</td>\n",
       "      <td>SECUNDARIA INCOMPLETA</td>\n",
       "      <td>0</td>\n",
       "      <td>090160000 No especificado</td>\n",
       "      <td>O266</td>\n",
       "    </tr>\n",
       "  </tbody>\n",
       "</table>\n",
       "</div>"
      ],
      "text/plain": [
       "   Edad cumplida  Entidad de residencia Descripción de entidad de residencia  \\\n",
       "0             29                     31                              Yucatán   \n",
       "1             35                     31                              Yucatán   \n",
       "2             29                     31                              Yucatán   \n",
       "3             36                     31                              Yucatán   \n",
       "4             30                      9                     Distrito Federal   \n",
       "\n",
       "   Escolaridad Descripción de la escolaridad  Localidad de ocurrencia  \\\n",
       "0            2           PRIMARIA INCOMPLETA                        1   \n",
       "1            2           PRIMARIA INCOMPLETA                        1   \n",
       "2            2           PRIMARIA INCOMPLETA                        1   \n",
       "3            2           PRIMARIA INCOMPLETA                        1   \n",
       "4            4         SECUNDARIA INCOMPLETA                        0   \n",
       "\n",
       "  Descrición de la localidad de ocurrencia Causa CIE a  cuarto dígito  \n",
       "0                     311020001 Valladolid                       O994  \n",
       "1                         310500001 Mérida                       O141  \n",
       "2                      310560001 Oxkutzcab                       O159  \n",
       "3                         310500001 Mérida                       O159  \n",
       "4                090160000 No especificado                       O266  "
      ]
     },
     "execution_count": 103,
     "metadata": {},
     "output_type": "execute_result"
    }
   ],
   "source": [
    "MMM2=MM.drop([\"Descripción del estado conyugal\",\"Tamaño de localidad\",\"Año de nacimiento\",\"Mes de nacimiento\", \"Descripción del mes de nacimiento\", \"Día de nacimiento\", \"Genero\", \"Clave de la edad\", \"Estado conyugal\"], axis=1)\n",
    "MMM3=MMM2.drop([\"Municipio de residencia\", \"Descripción del municipio de residencia\", \"Localidad de residencia\", \"Descripión de la localidad de residencia\", \"Descripción del tamaño de localidad\"], axis=1)\n",
    "MMM4=MMM3.drop([\"Ocupación habitual\", \"Descripción de la ocupación habitual\", \"Derechiahabiencia\", \"Descrición de la derechiahabiencia\", \"Entidad de ocurrencia\", \"Mes de registro\", \"Descripción del mes de registro\", \"Día de registro\", \"Año de la certificación\", \"Mes de la certificación\", \"Descripció del mes de la certificación\", \"Día de la certificación\", \"Año de la base de datos\", \"Razón de mortalidad materna\", \"Descrición de la razón de mortalidad materna\"], axis=1)\n",
    "MMM5=MMM4.drop([\"Descripción de la entidad de ocurrencia\", \"Municipio de ocurrencia\", \"Descrición del municipio de ocurrencia\", \"Sitio donde ocurrio la defunción\", \"Descripción del sitio donde ocurrio la defunción\", \"Descripción de la asistencia médica\", \"Descrición de la causa CIE\", \"Quien certificó\", \"Descrición de quien certificó\", \"Entidad de registro\", \"Descrición de la entidad de registro\", \"Municipio de registro\", \"Descrición del municipio de registro\", \"Año de registro\"], axis=1)\n",
    "MMM6=MMM5.drop([\"Año de la defunción\", \"Mes de la defunción\", \"Descrición del mes de la defunción\", \"Día de la defunción\", \"Hora de la defunción\", \"Minutos de la defunción\", \"Asistencia médica\"], axis=1)\n",
    "MMM6.head()\n",
    "\n",
    "#Entidad de residencia\n",
    "#Edad cumplida OK\n",
    "#Escolaridad OK\n",
    "#Localidad de ocurrencia OK\n",
    "\n"
   ]
  },
  {
   "cell_type": "code",
   "execution_count": 109,
   "metadata": {},
   "outputs": [
    {
     "data": {
      "image/png": "[encoded data removed]",
      "text/plain": [
       "<Figure size 432x288 with 1 Axes>"
      ]
     },
     "metadata": {
      "needs_background": "light"
     },
     "output_type": "display_data"
    }
   ],
   "source": [
    "x=MMM6[\"Edad cumplida\"]\n",
    "y=MMM6[\"Escolaridad\"]\n",
    "a=MMM6[\"Entidad de residencia\"]\n",
    "b=MMM6[\"Localidad de ocurrencia\"]\n",
    "plt.scatter(x, y, a, b)\n",
    "#plot.scatter(x, y, a, b)\n",
    "#MMM6.plot.scatter(x=\"Edad cumplida\", y=\"Escolaridad\", a=\"Entidad de residencia\", b=\"Localidad de ocurrencia\")\n",
    "plt.show()"
   ]
  },
  {
   "cell_type": "markdown",
   "metadata": {},
   "source": [
    "#### Conclusión: a menor edad de fallecimiento, se muestra que hay menor escolaridad. pero al igual se puede ver que en entidades y lugares de ocurrencia hay similitud"
   ]
  },
  {
   "cell_type": "markdown",
   "metadata": {},
   "source": [
    "- Realizar un análisis donde se necesite usar histogramas"
   ]
  },
  {
   "cell_type": "code",
   "execution_count": 121,
   "metadata": {},
   "outputs": [
    {
     "data": {
      "image/png": "[encoded data removed]",
      "text/plain": [
       "<Figure size 432x288 with 1 Axes>"
      ]
     },
     "metadata": {
      "needs_background": "light"
     },
     "output_type": "display_data"
    }
   ],
   "source": [
    "\n",
    "edad=MMM6[\"Edad cumplida\"]\n",
    "#MMM6.plot(kind=\"hist\", bins=60)\n",
    "plt.hist(edad,60, facecolor=\"pink\")\n",
    "plt.xlabel(\"Edad\")\n",
    "plt.ylabel(\"Mujeres\")\n",
    "plt.ylim(0,10000)\n",
    "plt.xlim(0,100)\n",
    "plt.title(\"Edad de fallecimiento segun la entidad\")\n",
    "#plt.show() me quita los datos y solo muestra la gráfica y se pone al final para que muestre etiquetas\n",
    "plt.show()"
   ]
  },
  {
   "cell_type": "code",
   "execution_count": null,
   "metadata": {},
   "outputs": [],
   "source": []
  }
 ],
 "metadata": {
  "kernelspec": {
   "display_name": "Python 3",
   "language": "python",
   "name": "python3"
  },
  "language_info": {
   "codemirror_mode": {
    "name": "ipython",
    "version": 3
   },
   "file_extension": ".py",
   "mimetype": "text/x-python",
   "name": "python",
   "nbconvert_exporter": "python",
   "pygments_lexer": "ipython3",
   "version": "3.7.0"
  }
 },
 "nbformat": 4,
 "nbformat_minor": 2
}
